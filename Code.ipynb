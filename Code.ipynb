{
 "cells": [
  {
   "cell_type": "code",
   "execution_count": 1,
   "metadata": {},
   "outputs": [],
   "source": [
    "import pandas as pd\n",
    "import requests\n",
    "from bs4 import BeautifulSoup\n",
    "import time\n",
    "\n",
    "js = \"https://angel.co/company_filters/search_data\"\n",
    "\n",
    "headers = {\"X-Requested-With\": \"XMLHttpRequest\",\n",
    "           \"User-Agent\": \"Mozilla/5.0 (X11; Linux x86_64) AppleWebKit/537.36 (KHTML, like Gecko) Chrome/50.0.2661.75 Safari/537.36\"}\n",
    "\n",
    "u = \"https://angel.co/companies/startups?ids%5B%5D={}&total={}&page={}&sort=signal&new=false&hexdigest={}\""
   ]
  },
  {
   "cell_type": "code",
   "execution_count": 2,
   "metadata": {},
   "outputs": [],
   "source": [
    "def parse_companies(companies):\n",
    "    df = pd.DataFrame(columns=df_columns)\n",
    "    for idx, company in enumerate(companies):\n",
    "        if idx % 4 == 0:\n",
    "            print('{} company'.format(idx))\n",
    "        name = company.findAll(\"a\", {\"class\": \"startup-link\"})[1].text\n",
    "\n",
    "        description = company.findAll(\"div\", {\"class\": \"pitch\"})[0].text.strip('\\n')\n",
    "        if len(description) == 0:\n",
    "            description = '-'\n",
    "\n",
    "        company_column = company.findAll(\"div\", {\"class\": \"company column\"})[0]\n",
    "        angelListUrl = company_column.findAll('a', href=True)[0]['href']\n",
    "\n",
    "        location_tag = company.findAll(\"div\", {\"class\":\"location\"})[0]\n",
    "        location = location_tag.findAll(\"div\", {\"class\":\"value\"})[0].text.strip('\\n')\n",
    "\n",
    "        employees_tag = company.findAll(\"div\", {\"class\": \"company_size\"})[0]\n",
    "        employees = employees_tag.findAll(\"div\", {\"class\":\"value\"})[0].text.strip('\\n')\n",
    "\n",
    "        raised_tag = company.findAll(\"div\", {\"class\": \"raised\"})[0]\n",
    "        raised = raised_tag.findAll(\"div\", {\"class\": \"value\"})[0].text.strip('\\n')\n",
    "\n",
    "        website_tag = company.findAll(\"div\", {\"class\": \"website\"})[0]\n",
    "        a = website_tag.findAll('a', href=True)\n",
    "        website = '-'\n",
    "        if len(a) > 0:\n",
    "            website = a[0]['href']\n",
    "        \n",
    "        angel_id = company.findAll(\"a\", {\"class\": \"startup-link\"})[0]['data-id']\n",
    "        full_company = pd.DataFrame([[name,description,angelListUrl,location,\n",
    "                                 employees,raised,website,angel_id]], columns=df_columns)\n",
    "        \n",
    "        df = df.append(full_company)\n",
    "    return df"
   ]
  },
  {
   "cell_type": "code",
   "execution_count": 3,
   "metadata": {},
   "outputs": [],
   "source": [
    "def parse_single_company(company):\n",
    "    df = pd.DataFrame(columns=df_columns)\n",
    "    name = company.findAll(\"a\", {\"class\": \"startup-link\"})[1].text\n",
    "\n",
    "    description = company.findAll(\"div\", {\"class\": \"pitch\"})[0].text.strip('\\n')\n",
    "    if len(description) == 0:\n",
    "        description = '-'\n",
    "\n",
    "    company_column = company.findAll(\"div\", {\"class\": \"company column\"})[0]\n",
    "    angelListUrl = company_column.findAll('a', href=True)[0]['href']\n",
    "\n",
    "    location_tag = company.findAll(\"div\", {\"class\":\"location\"})[0]\n",
    "    location = location_tag.findAll(\"div\", {\"class\":\"value\"})[0].text.strip('\\n')\n",
    "\n",
    "    employees_tag = company.findAll(\"div\", {\"class\": \"company_size\"})[0]\n",
    "    employees = employees_tag.findAll(\"div\", {\"class\":\"value\"})[0].text.strip('\\n')\n",
    "\n",
    "    raised_tag = company.findAll(\"div\", {\"class\": \"raised\"})[0]\n",
    "    raised = raised_tag.findAll(\"div\", {\"class\": \"value\"})[0].text.strip('\\n')\n",
    "\n",
    "    website_tag = company.findAll(\"div\", {\"class\": \"website\"})[0]\n",
    "    a = website_tag.findAll('a', href=True)\n",
    "    website = '-'\n",
    "    if len(a) > 0:\n",
    "        website = a[0]['href']\n",
    "\n",
    "    angel_id = company.findAll(\"a\", {\"class\": \"startup-link\"})[0]['data-id']\n",
    "    full_company = pd.DataFrame([[name,description,angelListUrl,location,\n",
    "                                 employees,raised,website,angel_id]], columns=df_columns)\n",
    "\n",
    "    df = df.append(full_company)\n",
    "    return df"
   ]
  },
  {
   "cell_type": "code",
   "execution_count": 4,
   "metadata": {},
   "outputs": [],
   "source": [
    "def get_next_pages(js, u, start_page=1):\n",
    "    with requests.Session() as s:\n",
    "        params = s.post(js, data={\"sort\": \"signal\",\"page\":start_page}, headers=headers).json()\n",
    "        companies = s.get(\n",
    "            u.format(\"&ids%5B%5D=\".join(map(str, params[\"ids\"])), params[\"page\"], params[\"total\"], params[\"hexdigest\"]),\n",
    "            headers=headers)\n",
    "        soup = BeautifulSoup(companies.json()[\"html\"], \"html.parser\")\n",
    "        companies = soup.findAll(name=\"div\", attrs={\"class\": \"base startup\"})\n",
    "        yield companies\n",
    "        while True:\n",
    "            # increment page count from previous.\n",
    "            page = params[\"page\"] + 1\n",
    "            params = s.post(js, data={\"sort\": \"signal\", \"page\": page}, headers=headers).json()\n",
    "            # keep going until we have reached the maximum queries\n",
    "            if \"ids\" not in params:\n",
    "                break\n",
    "            companies = s.get(u.format(\"&ids%5B%5D=\".join(map(str, \n",
    "                                                              params[\"ids\"])), \n",
    "                                                              params[\"page\"], \n",
    "                                                              params[\"total\"],\n",
    "                                                              params[\"hexdigest\"]), \n",
    "                                                              headers=headers)\n",
    "            soup = BeautifulSoup(companies.json()[\"html\"], \"html.parser\")\n",
    "            companies = soup.findAll(name=\"div\", attrs={\"class\": \"base startup\"})\n",
    "            # don't hammer with requests\n",
    "            \n",
    "            time.sleep(.3)\n",
    "            yield companies"
   ]
  },
  {
   "cell_type": "code",
   "execution_count": null,
   "metadata": {
    "scrolled": true
   },
   "outputs": [
    {
     "name": "stdout",
     "output_type": "stream",
     "text": [
      "batch index 0\n",
      "0 company\n",
      "4 company\n",
      "8 company\n",
      "12 company\n",
      "16 company\n",
      "batch index 1\n",
      "0 company\n",
      "4 company\n",
      "8 company\n",
      "12 company\n",
      "16 company\n",
      "batch index 2\n",
      "0 company\n",
      "4 company\n",
      "8 company\n",
      "12 company\n",
      "16 company\n",
      "batch index 3\n",
      "0 company\n",
      "4 company\n",
      "8 company\n",
      "12 company\n",
      "16 company\n",
      "batch index 4\n",
      "0 company\n",
      "4 company\n",
      "8 company\n",
      "12 company\n",
      "16 company\n"
     ]
    }
   ],
   "source": [
    "df_columns = ['name','desc','angelListUrl','location','employees','raised','website', 'angel_id']\n",
    "companies = get_next_pages(js, u)\n",
    "df = pd.DataFrame(columns=df_columns)\n",
    "\n",
    "for idx, comps in enumerate(companies):\n",
    "    print('batch index {}'.format(idx))\n",
    "    parsed_companies = parse_companies(comps)\n",
    "    df = df.append(parsed_companies)"
   ]
  },
  {
   "cell_type": "code",
   "execution_count": null,
   "metadata": {
    "scrolled": true
   },
   "outputs": [],
   "source": [
    "df.head()"
   ]
  },
  {
   "cell_type": "code",
   "execution_count": null,
   "metadata": {},
   "outputs": [],
   "source": [
    "df.to_csv('all_companies.csv', index=None)"
   ]
  }
 ],
 "metadata": {
  "kernelspec": {
   "display_name": "Python 3",
   "language": "python",
   "name": "python3"
  },
  "language_info": {
   "codemirror_mode": {
    "name": "ipython",
    "version": 3
   },
   "file_extension": ".py",
   "mimetype": "text/x-python",
   "name": "python",
   "nbconvert_exporter": "python",
   "pygments_lexer": "ipython3",
   "version": "3.6.1"
  }
 },
 "nbformat": 4,
 "nbformat_minor": 2
}
